{
 "cells": [
  {
   "cell_type": "markdown",
   "id": "23f9aa91",
   "metadata": {},
   "source": [
    "# Cómo Convertir Un Archivo CSV a JSON"
   ]
  },
  {
   "cell_type": "code",
   "execution_count": 1,
   "id": "9d0655fe",
   "metadata": {},
   "outputs": [],
   "source": [
    "import pandas as pd\n",
    "\n",
    "csv=pd.read_csv(\n",
    "    './pizzas.csv',\n",
    "    encoding='utf-8',\n",
    "    sep=',',\n",
    "    names=['size',\n",
    "           'flavor',\n",
    "           'name',\n",
    "           'ingredient',\n",
    "           'price'])"
   ]
  },
  {
   "cell_type": "markdown",
   "id": "584f6700",
   "metadata": {},
   "source": [
    ">La idea es **convertir este archivo CSV** "
   ]
  },
  {
   "cell_type": "code",
   "execution_count": 2,
   "id": "69887324",
   "metadata": {},
   "outputs": [
    {
     "data": {
      "text/html": [
       "<div>\n",
       "<style scoped>\n",
       "    .dataframe tbody tr th:only-of-type {\n",
       "        vertical-align: middle;\n",
       "    }\n",
       "\n",
       "    .dataframe tbody tr th {\n",
       "        vertical-align: top;\n",
       "    }\n",
       "\n",
       "    .dataframe thead th {\n",
       "        text-align: right;\n",
       "    }\n",
       "</style>\n",
       "<table border=\"1\" class=\"dataframe\">\n",
       "  <thead>\n",
       "    <tr style=\"text-align: right;\">\n",
       "      <th></th>\n",
       "      <th>size</th>\n",
       "      <th>flavor</th>\n",
       "      <th>name</th>\n",
       "      <th>ingredient</th>\n",
       "      <th>price</th>\n",
       "    </tr>\n",
       "  </thead>\n",
       "  <tbody>\n",
       "    <tr>\n",
       "      <th>0</th>\n",
       "      <td>Chica</td>\n",
       "      <td>Árabe</td>\n",
       "      <td>Árabe (Chica)</td>\n",
       "      <td>Carne de tacos árabes, cebolla, pimiento morrón</td>\n",
       "      <td>130</td>\n",
       "    </tr>\n",
       "    <tr>\n",
       "      <th>1</th>\n",
       "      <td>Chica</td>\n",
       "      <td>Atún</td>\n",
       "      <td>Atún (Chica)</td>\n",
       "      <td>Atún</td>\n",
       "      <td>110</td>\n",
       "    </tr>\n",
       "    <tr>\n",
       "      <th>2</th>\n",
       "      <td>Chica</td>\n",
       "      <td>Bambi</td>\n",
       "      <td>Bambi (Chica)</td>\n",
       "      <td>Jamon, salchicha, chorizo, tocino, piña, cebol...</td>\n",
       "      <td>110</td>\n",
       "    </tr>\n",
       "    <tr>\n",
       "      <th>3</th>\n",
       "      <td>Chica</td>\n",
       "      <td>Boneless</td>\n",
       "      <td>Boneless (Chica)</td>\n",
       "      <td>Boneless de pollo</td>\n",
       "      <td>110</td>\n",
       "    </tr>\n",
       "    <tr>\n",
       "      <th>4</th>\n",
       "      <td>Chica</td>\n",
       "      <td>Carnes Frías</td>\n",
       "      <td>Carnes Frías (Chica)</td>\n",
       "      <td>Jamon, salchicha, chorizo, tocino</td>\n",
       "      <td>110</td>\n",
       "    </tr>\n",
       "    <tr>\n",
       "      <th>...</th>\n",
       "      <td>...</td>\n",
       "      <td>...</td>\n",
       "      <td>...</td>\n",
       "      <td>...</td>\n",
       "      <td>...</td>\n",
       "    </tr>\n",
       "    <tr>\n",
       "      <th>370</th>\n",
       "      <td>Mini</td>\n",
       "      <td>Salchicha c/Rajas</td>\n",
       "      <td>Salchicha c/Rajas (Mini)</td>\n",
       "      <td>Salchicha, cebolla, pimiento morrón</td>\n",
       "      <td>70</td>\n",
       "    </tr>\n",
       "    <tr>\n",
       "      <th>371</th>\n",
       "      <td>Mini</td>\n",
       "      <td>Tocino</td>\n",
       "      <td>Tocino (Mini)</td>\n",
       "      <td>Tocino</td>\n",
       "      <td>70</td>\n",
       "    </tr>\n",
       "    <tr>\n",
       "      <th>372</th>\n",
       "      <td>Mini</td>\n",
       "      <td>Tres Quesos</td>\n",
       "      <td>Tres Quesos (Mini)</td>\n",
       "      <td>Queso manchego, queso mozzarella, queso gouda</td>\n",
       "      <td>85</td>\n",
       "    </tr>\n",
       "    <tr>\n",
       "      <th>373</th>\n",
       "      <td>Mini</td>\n",
       "      <td>Vegetariana</td>\n",
       "      <td>Vegetariana (Mini)</td>\n",
       "      <td>Campiñones, piña, cebolla, pimiento morrón</td>\n",
       "      <td>75</td>\n",
       "    </tr>\n",
       "    <tr>\n",
       "      <th>374</th>\n",
       "      <td>size</td>\n",
       "      <td>flavor</td>\n",
       "      <td>name</td>\n",
       "      <td>ingredient</td>\n",
       "      <td>price</td>\n",
       "    </tr>\n",
       "  </tbody>\n",
       "</table>\n",
       "<p>375 rows × 5 columns</p>\n",
       "</div>"
      ],
      "text/plain": [
       "      size             flavor                      name  \\\n",
       "0    Chica              Árabe             Árabe (Chica)   \n",
       "1    Chica               Atún              Atún (Chica)   \n",
       "2    Chica              Bambi             Bambi (Chica)   \n",
       "3    Chica           Boneless          Boneless (Chica)   \n",
       "4    Chica      Carnes Frías     Carnes Frías (Chica)   \n",
       "..     ...                ...                       ...   \n",
       "370   Mini  Salchicha c/Rajas  Salchicha c/Rajas (Mini)   \n",
       "371   Mini             Tocino             Tocino (Mini)   \n",
       "372   Mini        Tres Quesos        Tres Quesos (Mini)   \n",
       "373   Mini        Vegetariana        Vegetariana (Mini)   \n",
       "374   size             flavor                      name   \n",
       "\n",
       "                                            ingredient  price  \n",
       "0      Carne de tacos árabes, cebolla, pimiento morrón    130  \n",
       "1                                                 Atún    110  \n",
       "2    Jamon, salchicha, chorizo, tocino, piña, cebol...    110  \n",
       "3                                    Boneless de pollo    110  \n",
       "4                    Jamon, salchicha, chorizo, tocino    110  \n",
       "..                                                 ...    ...  \n",
       "370                Salchicha, cebolla, pimiento morrón     70  \n",
       "371                                             Tocino     70  \n",
       "372      Queso manchego, queso mozzarella, queso gouda     85  \n",
       "373         Campiñones, piña, cebolla, pimiento morrón     75  \n",
       "374                                         ingredient  price  \n",
       "\n",
       "[375 rows x 5 columns]"
      ]
     },
     "execution_count": 2,
     "metadata": {},
     "output_type": "execute_result"
    }
   ],
   "source": [
    "csv"
   ]
  },
  {
   "cell_type": "markdown",
   "id": "4ce5c5df",
   "metadata": {},
   "source": [
    ">**Transformalo en** un **JSON anidado** con esta estructura:"
   ]
  },
  {
   "cell_type": "code",
   "execution_count": null,
   "id": "ec64ec5c",
   "metadata": {},
   "outputs": [],
   "source": [
    "{\n",
    "    \"mini\":{\n",
    "        \"arabe\":{\n",
    "            \"name\":\"Árabe (Mini)\",\n",
    "            \"ingredients\":\"Carne de tacos árabes, cebolla, pimiento morrón\",\n",
    "            \"price\":95.0\n",
    "        },              \n",
    "        \"bambi\":{\n",
    "            \"name\":\"Bambi (Mini)\",\n",
    "            \"ingredients\":\"Jamon, salchicha, chorizo, tocino, piña, cebolla, pimiento morrón\",\n",
    "            \"price\":75.0\n",
    "        }\n",
    "    },\n",
    "    \"chica\":\n",
    "    {\n",
    "        \"arabe\":{\n",
    "            \"name\":\"Árabe (Chica)\",\n",
    "            \"ingredients\":\"Carne de tacos árabes, cebolla, pimiento morrón\",\n",
    "            \"price\":130.0\n",
    "        },              \n",
    "        \"bambi\":{\n",
    "            \"name\":\"Bambi (Chica)\",\n",
    "            \"ingredients\":\"Jamon, salchicha, chorizo, tocino, piña, cebolla, pimiento morrón\",\n",
    "            \"price\":110.0\n",
    "        }\n",
    "    }     \n",
    "}"
   ]
  },
  {
   "cell_type": "markdown",
   "id": "671d451d",
   "metadata": {},
   "source": [
    "## En código queda así:"
   ]
  },
  {
   "cell_type": "code",
   "execution_count": 11,
   "id": "8409ff7d",
   "metadata": {
    "scrolled": true
   },
   "outputs": [
    {
     "name": "stdout",
     "output_type": "stream",
     "text": [
      "{'Chica': {'Árabe': {'name': 'Árabe (Chica)', 'ingredient': ['Carne de tacos árabes', ' cebolla', ' pimiento morrón'], 'price': 130.0}, 'Atún': {'name': 'Atún (Chica)', 'ingredient': ['Atún'], 'price': 110.0}, 'Bambi': {'name': 'Bambi (Chica)', 'ingredient': ['Jamon', ' salchicha', ' chorizo', ' tocino', ' piña', ' cebolla', ' pimiento morrón'], 'price': 110.0}, 'Boneless': {'name': 'Boneless (Chica)', 'ingredient': ['Boneless de pollo'], 'price': 110.0}, 'Carnes Frías': {'name': 'Carnes Frías (Chica)', 'ingredient': ['Jamon', ' salchicha', ' chorizo', ' tocino'], 'price': 110.0}, 'Champiñón': {'name': 'Champiñón (Chica)', 'ingredient': ['Champiñones'], 'price': 105.0}, 'Chinameca': {'name': 'Chinameca (Chica)', 'ingredient': ['Carne de chinameca'], 'price': 105.0}, 'Chinameca c/Rajas': {'name': 'Chinameca c/Rajas (Chica)', 'ingredient': ['Carne de chinameca', ' cebolla', ' pimiento morrón'], 'price': 110.0}, 'Chorizo': {'name': 'Chorizo (Chica)', 'ingredient': ['Chorizo'], 'price': 110.0}, 'Chorizo c/jalapeño': {'name': 'Chorizo c/jalapeño (Chica)', 'ingredient': ['Chorizo', ' chile jalapeño'], 'price': 110.0}, 'Chorizo c/rajas': {'name': 'Chorizo c/rajas (Chica)', 'ingredient': ['Chorizo', ' cebolla', ' pimiento morrón'], 'price': 110.0}, 'Especial': {'name': 'Especial (Chica)', 'ingredient': ['Jamon', ' salchicha', ' chorizo', ' tocino', ' pollo', ' cebolla', ' pimiento morrón'], 'price': 110.0}, 'Hawaiiana': {'name': 'Hawaiiana (Chica)', 'ingredient': ['Jamon', ' piña'], 'price': 110.0}, 'Italiana': {'name': 'Italiana (Chica)', 'ingredient': ['Salchicha italiana', ' cebolla', ' pimiento morrón'], 'price': 130.0}, 'Jamón': {'name': 'Jamón (Chica)', 'ingredient': ['Jamon'], 'price': 110.0}, 'Mexicana': {'name': 'Mexicana (Chica)', 'ingredient': ['Carne molida de res', ' cebolla', ' tomate'], 'price': 110.0}, 'Napolitana': {'name': 'Napolitana (Chica)', 'ingredient': ['Jamon', ' salchicha', ' chorizo', ' champiñones'], 'price': 110.0}, 'Pastor': {'name': 'Pastor (Chica)', 'ingredient': ['Carne al pastor', ' piña', ' cebolla'], 'price': 120.0}, 'Pepperoni': {'name': 'Pepperoni (Chica)', 'ingredient': ['Pepperoni'], 'price': 110.0}, 'Pollo': {'name': 'Pollo (Chica)', 'ingredient': ['Pollo'], 'price': 110.0}, 'Pollo c/Rajas': {'name': 'Pollo c/Rajas (Chica)', 'ingredient': ['Pollo', ' cebolla', ' pimiento morrón'], 'price': 105.0}, 'Premium': {'name': 'Premium (Chica)', 'ingredient': ['Salchicha española premium', ' cebolla', ' pimiento morrón'], 'price': 130.0}, 'Puga': {'name': 'Puga (Chica)', 'ingredient': ['Jamon', ' salchicha', ' chorizo', ' tocino', ' champiñones'], 'price': 110.0}, 'Queso': {'name': 'Queso (Chica)', 'ingredient': ['Solo queso'], 'price': 110.0}, 'Revuelta': {'name': 'Revuelta (Chica)', 'ingredient': ['6 ingredientes a elegir'], 'price': 110.0}, 'Salami': {'name': 'Salami (Chica)', 'ingredient': ['Salami'], 'price': 105.0}, 'Salchicha': {'name': 'Salchicha (Chica)', 'ingredient': ['Salchicha'], 'price': 110.0}, 'Salchicha c/Rajas': {'name': 'Salchicha c/Rajas (Chica)', 'ingredient': ['Salchicha', ' cebolla', ' pimiento morrón'], 'price': 105.0}, 'Tocino': {'name': 'Tocino (Chica)', 'ingredient': ['Tocino'], 'price': 105.0}, 'Tres Quesos': {'name': 'Tres Quesos (Chica)', 'ingredient': ['Queso manchego', ' queso mozzarella', ' queso gouda'], 'price': 120.0}, 'Vegetariana': {'name': 'Vegetariana (Chica)', 'ingredient': ['Campiñones', ' piña', ' cebolla', ' pimiento morrón'], 'price': 110.0}}, 'Chica 2': {'Árabe': {'name': 'Árabe (Chica 2)', 'ingredient': ['Carne de tacos árabes', ' cebolla', ' pimiento morrón'], 'price': 145.0}, 'Atún': {'name': 'Atún (Chica 2)', 'ingredient': ['Atún'], 'price': 125.0}, 'Bambi': {'name': 'Bambi (Chica 2)', 'ingredient': ['Jamon', ' salchicha', ' chorizo', ' tocino', ' piña', ' cebolla', ' pimiento morrón'], 'price': 125.0}, 'Boneless': {'name': 'Boneless (Chica 2)', 'ingredient': ['Boneless de pollo'], 'price': 125.0}, 'Carnes Frías': {'name': 'Carnes Frías (Chica 2)', 'ingredient': ['Jamon', ' salchicha', ' chorizo', ' tocino'], 'price': 125.0}, 'Champiñón': {'name': 'Champiñón (Chica 2)', 'ingredient': ['Champiñones'], 'price': 120.0}, 'Chinameca': {'name': 'Chinameca (Chica 2)', 'ingredient': ['Carne de chinameca'], 'price': 120.0}, 'Chinameca c/Rajas': {'name': 'Chinameca c/Rajas (Chica 2)', 'ingredient': ['Carne de chinameca', ' cebolla', ' pimiento morrón'], 'price': 125.0}, 'Chorizo': {'name': 'Chorizo (Chica 2)', 'ingredient': ['Chorizo'], 'price': 125.0}, 'Chorizo c/jalapeño': {'name': 'Chorizo c/jalapeño (Chica 2)', 'ingredient': ['Chorizo', ' chile jalapeño'], 'price': 125.0}, 'Chorizo c/rajas': {'name': 'Chorizo c/rajas (Chica 2)', 'ingredient': ['Chorizo', ' cebolla', ' pimiento morrón'], 'price': 125.0}, 'Especial': {'name': 'Especial (Chica 2)', 'ingredient': ['Jamon', ' salchicha', ' chorizo', ' tocino', ' pollo', ' cebolla', ' pimiento morrón'], 'price': 125.0}, 'Hawaiiana': {'name': 'Hawaiiana (Chica 2)', 'ingredient': ['Jamon', ' piña'], 'price': 125.0}, 'Italiana': {'name': 'Italiana (Chica 2)', 'ingredient': ['Salchicha italiana', ' cebolla', ' pimiento morrón'], 'price': 145.0}, 'Jamón': {'name': 'Jamón (Chica 2)', 'ingredient': ['Jamon'], 'price': 125.0}, 'Mexicana': {'name': 'Mexicana (Chica 2)', 'ingredient': ['Carne molida de res', ' cebolla', ' tomate'], 'price': 125.0}, 'Napolitana': {'name': 'Napolitana (Chica 2)', 'ingredient': ['Jamon', ' salchicha', ' chorizo', ' champiñones'], 'price': 125.0}, 'Pastor': {'name': 'Pastor (Chica 2)', 'ingredient': ['Carne al pastor', ' piña', ' cebolla'], 'price': 135.0}, 'Pepperoni': {'name': 'Pepperoni (Chica 2)', 'ingredient': ['Pepperoni'], 'price': 125.0}, 'Pollo': {'name': 'Pollo (Chica 2)', 'ingredient': ['Pollo'], 'price': 125.0}, 'Pollo c/Rajas': {'name': 'Pollo c/Rajas (Chica 2)', 'ingredient': ['Pollo', ' cebolla', ' pimiento morrón'], 'price': 120.0}, 'Premium': {'name': 'Premium (Chica 2)', 'ingredient': ['Salchicha española premium', ' cebolla', ' pimiento morrón'], 'price': 145.0}, 'Puga': {'name': 'Puga (Chica 2)', 'ingredient': ['Jamon', ' salchicha', ' chorizo', ' tocino', ' champiñones'], 'price': 125.0}, 'Queso': {'name': 'Queso (Chica 2)', 'ingredient': ['Solo queso'], 'price': 125.0}, 'Revuelta': {'name': 'Revuelta (Chica dos)', 'ingredient': ['6 ingredientes a elegir'], 'price': 125.0}, 'Salami': {'name': 'Salami (Chica 2)', 'ingredient': ['Salami'], 'price': 120.0}, 'Salchicha': {'name': 'Salchicha (Chica 2)', 'ingredient': ['Salchicha'], 'price': 125.0}, 'Salchicha c/Rajas': {'name': 'Salchicha c/Rajas (Chica 2)', 'ingredient': ['Salchicha', ' cebolla', ' pimiento morrón'], 'price': 120.0}, 'Tocino': {'name': 'Tocino (Chica 2)', 'ingredient': ['Tocino'], 'price': 120.0}, 'Tres Quesos': {'name': 'Tres Quesos (Chica 2)', 'ingredient': ['Queso manchego', ' queso mozzarella', ' queso gouda'], 'price': 135.0}, 'Vegetariana': {'name': 'Vegetariana (Chica 2)', 'ingredient': ['Campiñones', ' piña', ' cebolla', ' pimiento morrón'], 'price': 125.0}}, 'Chica Combo Fm-Ch': {'Árabe': {'name': 'Árabe (Chica) combo', 'ingredient': ['Carne de tacos árabes', ' cebolla', ' pimiento morrón'], 'price': 105.0}, 'Atún': {'name': 'Atún (Chica) combo', 'ingredient': ['Atún'], 'price': 85.0}, 'Bambi': {'name': 'Bambi (Chica) combo', 'ingredient': ['Jamon', ' salchicha', ' chorizo', ' tocino', ' piña', ' cebolla', ' pimiento morrón'], 'price': 85.0}, 'Boneless': {'name': 'Boneless (Chica) combo', 'ingredient': ['Boneless de pollo'], 'price': 85.0}, 'Carnes Frías': {'name': 'Carnes Frías (Chica) combo', 'ingredient': ['Jamon', ' salchicha', ' chorizo', ' tocino'], 'price': 85.0}, 'Champiñón': {'name': 'Champiñón (Chica) combo', 'ingredient': ['Champiñones'], 'price': 85.0}, 'Chinameca': {'name': 'Chinameca (Chica) combo', 'ingredient': ['Carne de chinameca'], 'price': 85.0}, 'Chinameca c/Rajas': {'name': 'Chinameca c/Rajas (Chica) combo', 'ingredient': ['Carne de chinameca', ' cebolla', ' pimiento morrón'], 'price': 85.0}, 'Chorizo': {'name': 'Chorizo (Chica) combo', 'ingredient': ['Chorizo'], 'price': 85.0}, 'Chorizo c/jalapeño': {'name': 'Chorizo c/jalapeño (Chica) combo', 'ingredient': ['Chorizo', ' chile jalapeño'], 'price': 85.0}, 'Chorizo c/rajas': {'name': 'Chorizo c/rajas (Chica) combo', 'ingredient': ['Chorizo', ' cebolla', ' pimiento morrón'], 'price': 85.0}, 'Especial': {'name': 'Especial (Chica) combo', 'ingredient': ['Jamon', ' salchicha', ' chorizo', ' tocino', ' pollo', ' cebolla', ' pimiento morrón'], 'price': 85.0}, 'Hawaiiana': {'name': 'Hawaiiana (Chica) combo', 'ingredient': ['Jamon', ' piña'], 'price': 85.0}, 'Italiana': {'name': 'Italiana (Chica) combo', 'ingredient': ['Salchicha italiana', ' cebolla', ' pimiento morrón'], 'price': 105.0}, 'Jamón': {'name': 'Jamón (Chica) combo', 'ingredient': ['Jamon'], 'price': 85.0}, 'Mexicana': {'name': 'Mexicana (Chica) combo', 'ingredient': ['Carne molida de res', ' cebolla', ' tomate'], 'price': 85.0}, 'Napolitana': {'name': 'Napolitana (Chica) combo', 'ingredient': ['Jamon', ' salchicha', ' chorizo', ' champiñones'], 'price': 85.0}, 'Pastor': {'name': 'Pastor (Chica) combo', 'ingredient': ['Carne al pastor', ' piña', ' cebolla'], 'price': 95.0}, 'Pepperoni': {'name': 'Pepperoni (Chica) combo', 'ingredient': ['Pepperoni'], 'price': 85.0}, 'Pollo': {'name': 'Pollo (Chica) combo', 'ingredient': ['Pollo'], 'price': 85.0}, 'Pollo c/Rajas': {'name': 'Pollo c/Rajas (Chica) combo', 'ingredient': ['Pollo', ' cebolla', ' pimiento morrón'], 'price': 85.0}, 'Premium': {'name': 'Premium (Chica) combo', 'ingredient': ['Salchicha española premium', ' cebolla', ' pimiento morrón'], 'price': 105.0}, 'Puga': {'name': 'Puga (Chica) combo', 'ingredient': ['Jamon', ' salchicha', ' chorizo', ' tocino', ' champiñones'], 'price': 85.0}, 'Queso': {'name': 'Queso (Chica) combo', 'ingredient': ['Solo queso'], 'price': 85.0}, 'Revuelta': {'name': 'Revuelta (Chica) combo', 'ingredient': ['6 ingredientes a elegir'], 'price': 80.0}, 'Salami': {'name': 'Salami (Chica) combo', 'ingredient': ['Salami'], 'price': 85.0}, 'Salchicha': {'name': 'Salchicha (Chica) combo', 'ingredient': ['Salchicha'], 'price': 85.0}, 'Salchicha c/Rajas': {'name': 'Salchicha c/Rajas (Chica) combo', 'ingredient': ['Salchicha', ' cebolla', ' pimiento morrón'], 'price': 85.0}, 'Tocino': {'name': 'Tocino (Chica) combo', 'ingredient': ['Tocino'], 'price': 85.0}, 'Tres Quesos': {'name': 'Tres Quesos (Chica) combo', 'ingredient': ['Queso manchego', ' queso mozzarella', ' queso gouda'], 'price': 95.0}, 'Vegetariana': {'name': 'Vegetariana (Chica) combo', 'ingredient': ['Campiñones', ' piña', ' cebolla', ' pimiento morrón'], 'price': 85.0}}, 'Chica Combo Gr-Ch': {'Árabe': {'name': 'Árabe (Chica) combo', 'ingredient': ['Carne de tacos árabes', ' cebolla', ' pimiento morrón'], 'price': 100.0}, 'Atún': {'name': 'Atún (Chica) combo', 'ingredient': ['Atún'], 'price': 80.0}, 'Bambi': {'name': 'Bambi (Chica) combo', 'ingredient': ['Jamon', ' salchicha', ' chorizo', ' tocino', ' piña', ' cebolla', ' pimiento morrón'], 'price': 80.0}, 'Boneless': {'name': 'Boneless (Chica) combo', 'ingredient': ['Boneless de pollo'], 'price': 80.0}, 'Carnes Frías': {'name': 'Carnes Frías (Chica) combo', 'ingredient': ['Jamon', ' salchicha', ' chorizo', ' tocino'], 'price': 80.0}, 'Champiñón': {'name': 'Champiñón (Chica) combo', 'ingredient': ['Champiñones'], 'price': 80.0}, 'Chinameca': {'name': 'Chinameca (Chica) combo', 'ingredient': ['Carne de chinameca'], 'price': 80.0}, 'Chinameca c/Rajas': {'name': 'Chinameca c/Rajas (Chica) combo', 'ingredient': ['Carne de chinameca', ' cebolla', ' pimiento morrón'], 'price': 80.0}, 'Chorizo': {'name': 'Chorizo (Chica) combo', 'ingredient': ['Chorizo'], 'price': 80.0}, 'Chorizo c/jalapeño': {'name': 'Chorizo c/jalapeño (Chica) combo', 'ingredient': ['Chorizo', ' chile jalapeño'], 'price': 80.0}, 'Chorizo c/rajas': {'name': 'Chorizo c/rajas (Chica) combo', 'ingredient': ['Chorizo', ' cebolla', ' pimiento morrón'], 'price': 80.0}, 'Especial': {'name': 'Especial (Chica) combo', 'ingredient': ['Jamon', ' salchicha', ' chorizo', ' tocino', ' pollo', ' cebolla', ' pimiento morrón'], 'price': 80.0}, 'Hawaiiana': {'name': 'Hawaiiana (Chica) combo', 'ingredient': ['Jamon', ' piña'], 'price': 80.0}, 'Italiana': {'name': 'Italiana (Chica) combo', 'ingredient': ['Salchicha italiana', ' cebolla', ' pimiento morrón'], 'price': 100.0}, 'Jamón': {'name': 'Jamón (Chica) combo', 'ingredient': ['Jamon'], 'price': 80.0}, 'Mexicana': {'name': 'Mexicana (Chica) combo', 'ingredient': ['Carne molida de res', ' cebolla', ' tomate'], 'price': 80.0}, 'Napolitana': {'name': 'Napolitana (Chica) combo', 'ingredient': ['Jamon', ' salchicha', ' chorizo', ' champiñones'], 'price': 80.0}, 'Pastor': {'name': 'Pastor (Chica) combo', 'ingredient': ['Carne al pastor', ' piña', ' cebolla'], 'price': 90.0}, 'Pepperoni': {'name': 'Pepperoni (Chica) combo', 'ingredient': ['Pepperoni'], 'price': 80.0}, 'Pollo': {'name': 'Pollo (Chica) combo', 'ingredient': ['Pollo'], 'price': 80.0}, 'Pollo c/Rajas': {'name': 'Pollo c/Rajas (Chica) combo', 'ingredient': ['Pollo', ' cebolla', ' pimiento morrón'], 'price': 80.0}, 'Premium': {'name': 'Premium (Chica) combo', 'ingredient': ['Salchicha española premium', ' cebolla', ' pimiento morrón'], 'price': 100.0}, 'Puga': {'name': 'Puga (Chica) combo', 'ingredient': ['Jamon', ' salchicha', ' chorizo', ' tocino', ' champiñones'], 'price': 80.0}, 'Queso': {'name': 'Queso (Chica) combo', 'ingredient': ['Solo queso'], 'price': 80.0}, 'Revuelta': {'name': 'Revuelta (Chica) combo', 'ingredient': ['6 ingredientes a elegir'], 'price': 85.0}, 'Salami': {'name': 'Salami (Chica) combo', 'ingredient': ['Salami'], 'price': 80.0}, 'Salchicha': {'name': 'Salchicha (Chica) combo', 'ingredient': ['Salchicha'], 'price': 80.0}, 'Salchicha c/Rajas': {'name': 'Salchicha c/Rajas (Chica) combo', 'ingredient': ['Salchicha', ' cebolla', ' pimiento morrón'], 'price': 80.0}, 'Tocino': {'name': 'Tocino (Chica) combo', 'ingredient': ['Tocino'], 'price': 80.0}, 'Tres Quesos': {'name': 'Tres Quesos (Chica) combo', 'ingredient': ['Queso manchego', ' queso mozzarella', ' queso gouda'], 'price': 90.0}, 'Vegetariana': {'name': 'Vegetariana (Chica) combo', 'ingredient': ['Campiñones', ' piña', ' cebolla', ' pimiento morrón'], 'price': 80.0}}, 'Familiar': {'Árabe': {'name': 'Árabe (Familiar)', 'ingredient': ['Carne de tacos árabes', ' cebolla', ' pimiento morrón'], 'price': 210.0}, 'Atún': {'name': 'Atún (Familiar)', 'ingredient': ['Atún'], 'price': 180.0}, 'Bambi': {'name': 'Bambi (Familiar)', 'ingredient': ['Jamon', ' salchicha', ' chorizo', ' tocino', ' piña', ' cebolla', ' pimiento morrón'], 'price': 190.0}, 'Boneless': {'name': 'Boneless (Familiar)', 'ingredient': ['Boneless de pollo'], 'price': 190.0}, 'Carnes Frías': {'name': 'Carnes Frías (Familiar)', 'ingredient': ['Jamon', ' salchicha', ' chorizo', ' tocino'], 'price': 190.0}, 'Champiñón': {'name': 'Champiñón (Familiar)', 'ingredient': ['Champiñones'], 'price': 185.0}, 'Chinameca': {'name': 'Chinameca (Familiar)', 'ingredient': ['Carne de chinameca'], 'price': 185.0}, 'Chinameca c/Rajas': {'name': 'Chinameca c/Rajas (Familiar)', 'ingredient': ['Carne de chinameca', ' cebolla', ' pimiento morrón'], 'price': 190.0}, 'Chorizo': {'name': 'Chorizo (Familiar)', 'ingredient': ['Chorizo'], 'price': 180.0}, 'Chorizo c/jalapeño': {'name': 'Chorizo c/jalapeño (Familiar)', 'ingredient': ['Chorizo', ' chile jalapeño'], 'price': 190.0}, 'Chorizo c/rajas': {'name': 'Chorizo c/rajas (Familiar)', 'ingredient': ['Chorizo', ' cebolla', ' pimiento morrón'], 'price': 190.0}, 'Especial': {'name': 'Especial (Familiar)', 'ingredient': ['Jamon', ' salchicha', ' chorizo', ' tocino', ' pollo', ' cebolla', ' pimiento morrón'], 'price': 190.0}, 'Hawaiiana': {'name': 'Hawaiiana (Familiar)', 'ingredient': ['Jamon', ' piña'], 'price': 190.0}, 'Italiana': {'name': 'Italiana (Familiar)', 'ingredient': ['Salchicha italiana', ' cebolla', ' pimiento morrón'], 'price': 210.0}, 'Jamón': {'name': 'Jamón (Familiar)', 'ingredient': ['Jamon'], 'price': 180.0}, 'Mexicana': {'name': 'Mexicana (Familiar)', 'ingredient': ['Carne molida de res', ' cebolla', ' tomate'], 'price': 190.0}, 'Napolitana': {'name': 'Napolitana (Familiar)', 'ingredient': ['Jamon', ' salchicha', ' chorizo', ' champiñones'], 'price': 190.0}, 'Pastor': {'name': 'Pastor (Familiar)', 'ingredient': ['Carne al pastor', ' piña', ' cebolla'], 'price': 200.0}, 'Pepperoni': {'name': 'Pepperoni (Familiar)', 'ingredient': ['Pepperoni'], 'price': 190.0}, 'Pollo': {'name': 'Pollo (Familiar)', 'ingredient': ['Pollo'], 'price': 180.0}, 'Pollo c/Rajas': {'name': 'Pollo c/Rajas (Familiar)', 'ingredient': ['Pollo', ' cebolla', ' pimiento morrón'], 'price': 185.0}, 'Premium': {'name': 'Premium (Familiar)', 'ingredient': ['Salchicha española premium', ' cebolla', ' pimiento morrón'], 'price': 210.0}, 'Puga': {'name': 'Puga (Familiar)', 'ingredient': ['Jamon', ' salchicha', ' chorizo', ' tocino', ' champiñones'], 'price': 190.0}, 'Queso': {'name': 'Queso (Familiar)', 'ingredient': ['Solo queso'], 'price': 190.0}, 'Revuelta': {'name': 'Revuelta (Familiar)', 'ingredient': ['6 ingredientes a elegir'], 'price': 190.0}, 'Salami': {'name': 'Salami (Familiar)', 'ingredient': ['Salami'], 'price': 185.0}, 'Salchicha': {'name': 'Salchicha (Familiar)', 'ingredient': ['Salchicha'], 'price': 180.0}, 'Salchicha c/Rajas': {'name': 'Salchicha c/Rajas (Familiar)', 'ingredient': ['Salchicha', ' cebolla', ' pimiento morrón'], 'price': 185.0}, 'Tocino': {'name': 'Tocino (Familiar)', 'ingredient': ['Tocino'], 'price': 185.0}, 'Tres Quesos': {'name': 'Tres Quesos (Familiar)', 'ingredient': ['Queso manchego', ' queso mozzarella', ' queso gouda'], 'price': 200.0}, 'Vegetariana': {'name': 'Vegetariana (Familiar)', 'ingredient': ['Campiñones', ' piña', ' cebolla', ' pimiento morrón'], 'price': 190.0}}, 'Familiar Combo Fm-Ch': {'Árabe': {'name': 'Árabe (Familiar) combo', 'ingredient': ['Carne de tacos árabes', ' cebolla', ' pimiento morrón'], 'price': 175.0}, 'Atún': {'name': 'Atún (Familiar) combo', 'ingredient': ['Atún'], 'price': 155.0}, 'Bambi': {'name': 'Bambi (Familiar) combo', 'ingredient': ['Jamon', ' salchicha', ' chorizo', ' tocino', ' piña', ' cebolla', ' pimiento morrón'], 'price': 155.0}, 'Boneless': {'name': 'Boneless (Familiar) combo', 'ingredient': ['Boneless de pollo'], 'price': 155.0}, 'Carnes Frías': {'name': 'Carnes Frías (Familiar) combo', 'ingredient': ['Jamon', ' salchicha', ' chorizo', ' tocino'], 'price': 155.0}, 'Champiñón': {'name': 'Champiñón (Familiar) combo', 'ingredient': ['Champiñones'], 'price': 155.0}, 'Chinameca': {'name': 'Chinameca (Familiar) combo', 'ingredient': ['Carne de chinameca'], 'price': 155.0}, 'Chinameca c/Rajas': {'name': 'Chinameca c/Rajas (Familiar) combo', 'ingredient': ['Carne de chinameca', ' cebolla', ' pimiento morrón'], 'price': 155.0}, 'Chorizo': {'name': 'Chorizo (Familiar) combo', 'ingredient': ['Chorizo'], 'price': 155.0}, 'Chorizo c/jalapeño': {'name': 'Chorizo c/jalapeño (Familiar) combo', 'ingredient': ['Chorizo', ' chile jalapeño'], 'price': 155.0}, 'Chorizo c/rajas': {'name': 'Chorizo c/rajas (Familiar) combo', 'ingredient': ['Chorizo', ' cebolla', ' pimiento morrón'], 'price': 155.0}, 'Especial': {'name': 'Especial (Familiar) combo', 'ingredient': ['Jamon', ' salchicha', ' chorizo', ' tocino', ' pollo', ' cebolla', ' pimiento morrón'], 'price': 155.0}, 'Hawaiiana': {'name': 'Hawaiiana (Familiar) combo', 'ingredient': ['Jamon', ' piña'], 'price': 155.0}, 'Italiana': {'name': 'Italiana (Familiar) combo', 'ingredient': ['Salchicha italiana', ' cebolla', ' pimiento morrón'], 'price': 175.0}, 'Jamón': {'name': 'Jamón (Familiar) combo', 'ingredient': ['Jamon'], 'price': 155.0}, 'Mexicana': {'name': 'Mexicana (Familiar) combo', 'ingredient': ['Carne molida de res', ' cebolla', ' tomate'], 'price': 155.0}, 'Napolitana': {'name': 'Napolitana (Familiar) combo', 'ingredient': ['Jamon', ' salchicha', ' chorizo', ' champiñones'], 'price': 155.0}, 'Pastor': {'name': 'Pastor (Familiar) combo', 'ingredient': ['Carne al pastor', ' piña', ' cebolla'], 'price': 165.0}, 'Pepperoni': {'name': 'Pepperoni (Familiar) combo', 'ingredient': ['Pepperoni'], 'price': 155.0}, 'Pollo': {'name': 'Pollo (Familiar) combo', 'ingredient': ['Pollo'], 'price': 155.0}, 'Pollo c/Rajas': {'name': 'Pollo c/Rajas (Familiar) combo', 'ingredient': ['Pollo', ' cebolla', ' pimiento morrón'], 'price': 155.0}, 'Premium': {'name': 'Premium (Familiar) combo', 'ingredient': ['Salchicha española premium', ' cebolla', ' pimiento morrón'], 'price': 175.0}, 'Puga': {'name': 'Puga (Familiar) combo', 'ingredient': ['Jamon', ' salchicha', ' chorizo', ' tocino', ' champiñones'], 'price': 155.0}, 'Queso': {'name': 'Queso (Familiar) combo', 'ingredient': ['Solo queso'], 'price': 155.0}, 'Revuelta': {'name': 'Revuelta (Familiar) combo', 'ingredient': ['6 ingredientes a elegir'], 'price': 155.0}, 'Salami': {'name': 'Salami (Familiar) combo', 'ingredient': ['Salami'], 'price': 155.0}, 'Salchicha': {'name': 'Salchicha (Familiar) combo', 'ingredient': ['Salchicha'], 'price': 155.0}, 'Salchicha c/Rajas': {'name': 'Salchicha c/Rajas (Familiar) combo', 'ingredient': ['Salchicha', ' cebolla', ' pimiento morrón'], 'price': 155.0}, 'Tocino': {'name': 'Tocino (Familiar) combo', 'ingredient': ['Tocino'], 'price': 155.0}, 'Tres Quesos': {'name': 'Tres Quesos (Familiar) combo', 'ingredient': ['Queso manchego', ' queso mozzarella', ' queso gouda'], 'price': 165.0}, 'Vegetariana': {'name': 'Vegetariana (Familiar) combo', 'ingredient': ['Campiñones', ' piña', ' cebolla', ' pimiento morrón'], 'price': 155.0}}, 'Grande': {'Árabe': {'name': 'Árabe (Grande)', 'ingredient': ['Carne de tacos árabes', ' cebolla', ' pimiento morrón'], 'price': 200.0}, 'Atún': {'name': 'Atún (Grande)', 'ingredient': ['Atún'], 'price': 170.0}, 'Bambi': {'name': 'Bambi (Grande)', 'ingredient': ['Jamon', ' salchicha', ' chorizo', ' tocino', ' piña', ' cebolla', ' pimiento morrón'], 'price': 180.0}, 'Boneless': {'name': 'Boneless (Grande)', 'ingredient': ['Boneless de pollo'], 'price': 180.0}, 'Carnes Frías': {'name': 'Carnes Frías (Grande)', 'ingredient': ['Jamon', ' salchicha', ' chorizo', ' tocino'], 'price': 180.0}, 'Champiñón': {'name': 'Champiñón (Grande)', 'ingredient': ['Champiñones'], 'price': 175.0}, 'Chinameca': {'name': 'Chinameca (Grande)', 'ingredient': ['Carne de chinameca'], 'price': 175.0}, 'Chinameca c/Rajas': {'name': 'Chinameca c/Rajas (Grande)', 'ingredient': ['Carne de chinameca', ' cebolla', ' pimiento morrón'], 'price': 180.0}, 'Chorizo': {'name': 'Chorizo (Grande)', 'ingredient': ['Chorizo'], 'price': 170.0}, 'Chorizo c/jalapeño': {'name': 'Chorizo c/jalapeño (Grande)', 'ingredient': ['Chorizo', ' chile jalapeño'], 'price': 180.0}, 'Chorizo c/rajas': {'name': 'Chorizo c/rajas (Grande)', 'ingredient': ['Chorizo', ' cebolla', ' pimiento morrón'], 'price': 180.0}, 'Especial': {'name': 'Especial (Grande)', 'ingredient': ['Jamon', ' salchicha', ' chorizo', ' tocino', ' pollo', ' cebolla', ' pimiento morrón'], 'price': 180.0}, 'Hawaiiana': {'name': 'Hawaiiana (Grande)', 'ingredient': ['Jamon', ' piña'], 'price': 180.0}, 'Italiana': {'name': 'Italiana (Grande)', 'ingredient': ['Salchicha italiana', ' cebolla', ' pimiento morrón'], 'price': 200.0}, 'Jamón': {'name': 'Jamón (Grande)', 'ingredient': ['Jamon'], 'price': 170.0}, 'Mexicana': {'name': 'Mexicana (Grande)', 'ingredient': ['Carne molida de res', ' cebolla', ' tomate'], 'price': 180.0}, 'Napolitana': {'name': 'Napolitana (Grande)', 'ingredient': ['Jamon', ' salchicha', ' chorizo', ' champiñones'], 'price': 180.0}, 'Pastor': {'name': 'Pastor (Grande)', 'ingredient': ['Carne al pastor', ' piña', ' cebolla'], 'price': 190.0}, 'Pepperoni': {'name': 'Pepperoni (Grande)', 'ingredient': ['Pepperoni'], 'price': 180.0}, 'Pollo': {'name': 'Pollo (Grande)', 'ingredient': ['Pollo'], 'price': 170.0}, 'Pollo c/Rajas': {'name': 'Pollo c/Rajas (Grande)', 'ingredient': ['Pollo', ' cebolla', ' pimiento morrón'], 'price': 175.0}, 'Premium': {'name': 'Premium (Grande)', 'ingredient': ['Salchicha española premium', ' cebolla', ' pimiento morrón'], 'price': 200.0}, 'Puga': {'name': 'Puga (Grande)', 'ingredient': ['Jamon', ' salchicha', ' chorizo', ' tocino', ' champiñones'], 'price': 180.0}, 'Queso': {'name': 'Queso (Grande)', 'ingredient': ['Solo queso'], 'price': 180.0}, 'Revuelta': {'name': 'Revuelta (Grande)', 'ingredient': ['6 ingredientes a elegir'], 'price': 180.0}, 'Salami': {'name': 'Salami (Grande)', 'ingredient': ['Salami'], 'price': 175.0}, 'Salchicha': {'name': 'Salchicha (Grande)', 'ingredient': ['Salchicha'], 'price': 170.0}, 'Salchicha c/Rajas': {'name': 'Salchicha c/Rajas (Grande)', 'ingredient': ['Salchicha', ' cebolla', ' pimiento morrón'], 'price': 175.0}, 'Tocino': {'name': 'Tocino (Grande)', 'ingredient': ['Tocino'], 'price': 175.0}, 'Tres Quesos': {'name': 'Tres Quesos (Grande)', 'ingredient': ['Queso manchego', ' queso mozzarella', ' queso gouda'], 'price': 190.0}, 'Vegetariana': {'name': 'Vegetariana (Grande)', 'ingredient': ['Campiñones', ' piña', ' cebolla', ' pimiento morrón'], 'price': 180.0}}, 'Grande Combo Gr-Ch': {'Árabe': {'name': 'Árabe (Grande) combo', 'ingredient': ['Carne de tacos árabes', ' cebolla', ' pimiento morrón'], 'price': 160.0}, 'Atún': {'name': 'Atún (Grande) combo', 'ingredient': ['Atún'], 'price': 140.0}, 'Bambi': {'name': 'Bambi (Grande) combo', 'ingredient': ['Jamon', ' salchicha', ' chorizo', ' tocino', ' piña', ' cebolla', ' pimiento morrón'], 'price': 140.0}, 'Boneless': {'name': 'Boneless (Grande) combo', 'ingredient': ['Boneless de pollo'], 'price': 140.0}, 'Carnes Frías': {'name': 'Carnes Frías (Grande) combo', 'ingredient': ['Jamon', ' salchicha', ' chorizo', ' tocino'], 'price': 140.0}, 'Champiñón': {'name': 'Champiñón (Grande) combo', 'ingredient': ['Champiñones'], 'price': 140.0}, 'Chinameca': {'name': 'Chinameca (Grande) combo', 'ingredient': ['Carne de chinameca'], 'price': 140.0}, 'Chinameca c/Rajas': {'name': 'Chinameca c/Rajas (Grande) combo', 'ingredient': ['Carne de chinameca', ' cebolla', ' pimiento morrón'], 'price': 140.0}, 'Chorizo': {'name': 'Chorizo (Grande) combo', 'ingredient': ['Chorizo'], 'price': 140.0}, 'Chorizo c/jalapeño': {'name': 'Chorizo c/jalapeño (Grande) combo', 'ingredient': ['Chorizo', ' chile jalapeño'], 'price': 140.0}, 'Chorizo c/rajas': {'name': 'Chorizo c/rajas (Grande) combo', 'ingredient': ['Chorizo', ' cebolla', ' pimiento morrón'], 'price': 140.0}, 'Especial': {'name': 'Especial (Grande) combo', 'ingredient': ['Jamon', ' salchicha', ' chorizo', ' tocino', ' pollo', ' cebolla', ' pimiento morrón'], 'price': 140.0}, 'Hawaiiana': {'name': 'Hawaiiana (Grande) combo', 'ingredient': ['Jamon', ' piña'], 'price': 140.0}, 'Italiana': {'name': 'Italiana (Grande) combo', 'ingredient': ['Salchicha italiana', ' cebolla', ' pimiento morrón'], 'price': 160.0}, 'Jamón': {'name': 'Jamón (Grande) combo', 'ingredient': ['Jamon'], 'price': 140.0}, 'Mexicana': {'name': 'Mexicana (Grande) combo', 'ingredient': ['Carne molida de res', ' cebolla', ' tomate'], 'price': 140.0}, 'Napolitana': {'name': 'Napolitana (Grande) combo', 'ingredient': ['Jamon', ' salchicha', ' chorizo', ' champiñones'], 'price': 140.0}, 'Pastor': {'name': 'Pastor (Grande) combo', 'ingredient': ['Carne al pastor', ' piña', ' cebolla'], 'price': 150.0}, 'Pepperoni': {'name': 'Pepperoni (Grande) combo', 'ingredient': ['Pepperoni'], 'price': 140.0}, 'Pollo': {'name': 'Pollo (Grande) combo', 'ingredient': ['Pollo'], 'price': 140.0}, 'Pollo c/Rajas': {'name': 'Pollo c/Rajas (Grande) combo', 'ingredient': ['Pollo', ' cebolla', ' pimiento morrón'], 'price': 140.0}, 'Premium': {'name': 'Premium (Grande) combo', 'ingredient': ['Salchicha española premium', ' cebolla', ' pimiento morrón'], 'price': 160.0}, 'Puga': {'name': 'Puga (Grande) combo', 'ingredient': ['Jamon', ' salchicha', ' chorizo', ' tocino', ' champiñones'], 'price': 140.0}, 'Queso': {'name': 'Queso (Grande) combo', 'ingredient': ['Solo queso'], 'price': 140.0}, 'Revuelta': {'name': 'Revuelta (Grande) combo', 'ingredient': ['6 ingredientes a elegir'], 'price': 140.0}, 'Salami': {'name': 'Salami (Grande) combo', 'ingredient': ['Salami'], 'price': 140.0}, 'Salchicha': {'name': 'Salchicha (Grande) combo', 'ingredient': ['Salchicha'], 'price': 140.0}, 'Salchicha c/Rajas': {'name': 'Salchicha c/Rajas (Grande) combo', 'ingredient': ['Salchicha', ' cebolla', ' pimiento morrón'], 'price': 140.0}, 'Tocino': {'name': 'Tocino (Grande) combo', 'ingredient': ['Tocino'], 'price': 140.0}, 'Tres Quesos': {'name': 'Tres Quesos (Grande) combo', 'ingredient': ['Queso manchego', ' queso mozzarella', ' queso gouda'], 'price': 150.0}, 'Vegetariana': {'name': 'Vegetariana (Grande) combo', 'ingredient': ['Campiñones', ' piña', ' cebolla', ' pimiento morrón'], 'price': 140.0}}, 'Grande Jugada Libre': {'Bambi': {'name': 'Bambi (Grande)', 'ingredient': ['Jamon', ' salchicha', ' chorizo', ' tocino', ' piña', ' cebolla', ' pimiento morrón'], 'price': 0.0}, 'Chorizo c/jalapeño': {'name': 'Chorizo c/jalapeño (Grande)', 'ingredient': ['Chorizo', ' chile jalapeño'], 'price': 0.0}, 'Chorizo c/rajas': {'name': 'Chorizo c/rajas (Grande)', 'ingredient': ['Chorizo', ' cebolla', ' pimiento morrón'], 'price': 0.0}}, 'Mediana': {'Árabe': {'name': 'Árabe (Mediana)', 'ingredient': ['Carne de tacos árabes', ' cebolla', ' pimiento morrón'], 'price': 175.0}, 'Atún': {'name': 'Atún (Mediana)', 'ingredient': ['Atún'], 'price': 145.0}, 'Bambi': {'name': 'Bambi (Mediana)', 'ingredient': ['Jamon', ' salchicha', ' chorizo', ' tocino', ' piña', ' cebolla', ' pimiento morrón'], 'price': 155.0}, 'Boneless': {'name': 'Boneless (Mediana)', 'ingredient': ['Boneless de pollo'], 'price': 155.0}, 'Carnes Frías': {'name': 'Carnes Frías (Mediana)', 'ingredient': ['Jamon', ' salchicha', ' chorizo', ' tocino'], 'price': 155.0}, 'Champiñón': {'name': 'Champiñón (Mediana)', 'ingredient': ['Champiñones'], 'price': 150.0}, 'Chinameca': {'name': 'Chinameca (Mediana)', 'ingredient': ['Carne de chinameca'], 'price': 150.0}, 'Chinameca c/Rajas': {'name': 'Chinameca c/Rajas (Mediana)', 'ingredient': ['Carne de chinameca', ' cebolla', ' pimiento morrón'], 'price': 155.0}, 'Chorizo': {'name': 'Chorizo (Mediana)', 'ingredient': ['Chorizo'], 'price': 145.0}, 'Chorizo c/jalapeño': {'name': 'Chorizo c/jalapeño (Mediana)', 'ingredient': ['Chorizo', ' chile jalapeño'], 'price': 155.0}, 'Chorizo c/rajas': {'name': 'Chorizo c/rajas (Mediana)', 'ingredient': ['Chorizo', ' cebolla', ' pimiento morrón'], 'price': 155.0}, 'Especial': {'name': 'Especial (Mediana)', 'ingredient': ['Jamon', ' salchicha', ' chorizo', ' tocino', ' pollo', ' cebolla', ' pimiento morrón'], 'price': 155.0}, 'Hawaiiana': {'name': 'Hawaiiana (Mediana)', 'ingredient': ['Jamon', ' piña'], 'price': 155.0}, 'Italiana': {'name': 'Italiana (Mediana)', 'ingredient': ['Salchicha italiana', ' cebolla', ' pimiento morrón'], 'price': 175.0}, 'Jamón': {'name': 'Jamón (Mediana)', 'ingredient': ['Jamon'], 'price': 145.0}, 'Mexicana': {'name': 'Mexicana (Mediana)', 'ingredient': ['Carne molida de res', ' cebolla', ' tomate'], 'price': 155.0}, 'Napolitana': {'name': 'Napolitana (Mediana)', 'ingredient': ['Jamon', ' salchicha', ' chorizo', ' champiñones'], 'price': 155.0}, 'Pastor': {'name': 'Pastor (Mediana)', 'ingredient': ['Carne al pastor', ' piña', ' cebolla'], 'price': 165.0}, 'Pepperoni': {'name': 'Pepperoni (Mediana)', 'ingredient': ['Pepperoni'], 'price': 155.0}, 'Pollo': {'name': 'Pollo (Mediana)', 'ingredient': ['Pollo'], 'price': 145.0}, 'Pollo c/Rajas': {'name': 'Pollo c/Rajas (Mediana)', 'ingredient': ['Pollo', ' cebolla', ' pimiento morrón'], 'price': 150.0}, 'Premium': {'name': 'Premium (Mediana)', 'ingredient': ['Salchicha española premium', ' cebolla', ' pimiento morrón'], 'price': 175.0}, 'Puga': {'name': 'Puga (Mediana)', 'ingredient': ['Jamon', ' salchicha', ' chorizo', ' tocino', ' champiñones'], 'price': 155.0}, 'Queso': {'name': 'Queso (Mediana)', 'ingredient': ['Solo queso'], 'price': 155.0}, 'Revuelta': {'name': 'Revuelta (Mediana)', 'ingredient': ['6 ingredientes a elegir'], 'price': 155.0}, 'Salami': {'name': 'Salami (Mediana)', 'ingredient': ['Salami'], 'price': 150.0}, 'Salchicha': {'name': 'Salchicha (Mediana)', 'ingredient': ['Salchicha'], 'price': 145.0}, 'Salchicha c/Rajas': {'name': 'Salchicha c/Rajas (Mediana)', 'ingredient': ['Salchicha', ' cebolla', ' pimiento morrón'], 'price': 150.0}, 'Tocino': {'name': 'Tocino (Mediana)', 'ingredient': ['Tocino'], 'price': 150.0}, 'Tres Quesos': {'name': 'Tres Quesos (Mediana)', 'ingredient': ['Queso manchego', ' queso mozzarella', ' queso gouda'], 'price': 165.0}, 'Vegetariana': {'name': 'Vegetariana (Mediana)', 'ingredient': ['Campiñones', ' piña', ' cebolla', ' pimiento morrón'], 'price': 155.0}}, 'Mega': {'Árabe': {'name': 'Árabe (Mega)', 'ingredient': ['Carne de tacos árabes', ' cebolla', ' pimiento morrón'], 'price': 270.0}, 'Atún': {'name': 'Atún (Mega)', 'ingredient': ['Atún'], 'price': 240.0}, 'Bambi': {'name': 'Bambi (Mega)', 'ingredient': ['Jamon', ' salchicha', ' chorizo', ' tocino', ' piña', ' cebolla', ' pimiento morrón'], 'price': 250.0}, 'Boneless': {'name': 'Boneless (Mega)', 'ingredient': ['Boneless de pollo'], 'price': 250.0}, 'Carnes Frías': {'name': 'Carnes Frías (Mega)', 'ingredient': ['Jamon', ' salchicha', ' chorizo', ' tocino'], 'price': 250.0}, 'Champiñón': {'name': 'Champiñón (Mega)', 'ingredient': ['Champiñones'], 'price': 245.0}, 'Chinameca': {'name': 'Chinameca (Mega)', 'ingredient': ['Carne de chinameca'], 'price': 245.0}, 'Chinameca c/Rajas': {'name': 'Chinameca c/Rajas (Mega)', 'ingredient': ['Carne de chinameca', ' cebolla', ' pimiento morrón'], 'price': 250.0}, 'Chorizo': {'name': 'Chorizo (Mega)', 'ingredient': ['Chorizo'], 'price': 240.0}, 'Chorizo c/jalapeño': {'name': 'Chorizo c/jalapeño (Mega)', 'ingredient': ['Chorizo', ' chile jalapeño'], 'price': 250.0}, 'Chorizo c/rajas': {'name': 'Chorizo c/rajas (Mega)', 'ingredient': ['Chorizo', ' cebolla', ' pimiento morrón'], 'price': 250.0}, 'Especial': {'name': 'Especial (Mega)', 'ingredient': ['Jamon', ' salchicha', ' chorizo', ' tocino', ' pollo', ' cebolla', ' pimiento morrón'], 'price': 250.0}, 'Hawaiiana': {'name': 'Hawaiiana (Mega)', 'ingredient': ['Jamon', ' piña'], 'price': 250.0}, 'Italiana': {'name': 'Italiana (Mega)', 'ingredient': ['Salchicha italiana', ' cebolla', ' pimiento morrón'], 'price': 270.0}, 'Jamón': {'name': 'Jamón (Mega)', 'ingredient': ['Jamon'], 'price': 240.0}, 'Mexicana': {'name': 'Mexicana (Mega)', 'ingredient': ['Carne molida de res', ' cebolla', ' tomate'], 'price': 250.0}, 'Napolitana': {'name': 'Napolitana (Mega)', 'ingredient': ['Jamon', ' salchicha', ' chorizo', ' champiñones'], 'price': 250.0}, 'Pastor': {'name': 'Pastor (Mega)', 'ingredient': ['Carne al pastor', ' piña', ' cebolla'], 'price': 260.0}, 'Pepperoni': {'name': 'Pepperoni (Mega)', 'ingredient': ['Pepperoni'], 'price': 250.0}, 'Pollo': {'name': 'Pollo (Mega)', 'ingredient': ['Pollo'], 'price': 240.0}, 'Pollo c/Rajas': {'name': 'Pollo c/Rajas (Mega)', 'ingredient': ['Pollo', ' cebolla', ' pimiento morrón'], 'price': 245.0}, 'Premium': {'name': 'Premium (Mega)', 'ingredient': ['Salchicha española premium', ' cebolla', ' pimiento morrón'], 'price': 270.0}, 'Puga': {'name': 'Puga (Mega)', 'ingredient': ['Jamon', ' salchicha', ' chorizo', ' tocino', ' champiñones'], 'price': 250.0}, 'Queso': {'name': 'Queso (Mega)', 'ingredient': ['Solo queso'], 'price': 250.0}, 'Revuelta': {'name': 'Revuelta (Mega)', 'ingredient': ['6 ingredientes a elegir'], 'price': 250.0}, 'Salami': {'name': 'Salami (Mega)', 'ingredient': ['Salami'], 'price': 245.0}, 'Salchicha': {'name': 'Salchicha (Mega)', 'ingredient': ['Salchicha'], 'price': 240.0}, 'Salchicha c/Rajas': {'name': 'Salchicha c/Rajas (Mega)', 'ingredient': ['Salchicha', ' cebolla', ' pimiento morrón'], 'price': 245.0}, 'Tocino': {'name': 'Tocino (Mega)', 'ingredient': ['Tocino'], 'price': 245.0}, 'Tres Quesos': {'name': 'Tres Quesos (Mega)', 'ingredient': ['Queso manchego', ' queso mozzarella', ' queso gouda'], 'price': 260.0}, 'Vegetariana': {'name': 'Vegetariana (Mega)', 'ingredient': ['Campiñones', ' piña', ' cebolla', ' pimiento morrón'], 'price': 250.0}}, 'Mega Jugada Libre': {'Árabe': {'name': 'Árabe (Mega) Jugada Libre', 'ingredient': ['Carne de tacos árabes', ' cebolla', ' pimiento morrón'], 'price': 0.0}, 'Atún': {'name': 'Atún (Mega)', 'ingredient': ['Atún'], 'price': 0.0}, 'Bambi': {'name': 'Bambi (Mega)', 'ingredient': ['Jamon', ' salchicha', ' chorizo', ' tocino', ' piña', ' cebolla', ' pimiento morrón'], 'price': 0.0}, 'Boneless': {'name': 'Boneless (Mega)', 'ingredient': ['Boneless de pollo'], 'price': 0.0}, 'Carnes Frías': {'name': 'Carnes Frías (Mega)', 'ingredient': ['Jamon', ' salchicha', ' chorizo', ' tocino'], 'price': 0.0}, 'Champiñón': {'name': 'Champiñón (Mega)', 'ingredient': ['Champiñones'], 'price': 0.0}, 'Chinameca': {'name': 'Chinameca (Mega)', 'ingredient': ['Carne de chinameca'], 'price': 0.0}, 'Chinameca c/Rajas': {'name': 'Chinameca c/Rajas (Mega)', 'ingredient': ['Carne de chinameca', ' cebolla', ' pimiento morrón'], 'price': 0.0}, 'Chorizo': {'name': 'Chorizo (Mega)', 'ingredient': ['Chorizo'], 'price': 0.0}, 'Chorizo c/jalapeño': {'name': 'Chorizo c/jalapeño (Mega)', 'ingredient': ['Chorizo', ' chile jalapeño'], 'price': 0.0}, 'Chorizo c/rajas': {'name': 'Chorizo c/rajas (Mega)', 'ingredient': ['Chorizo', ' cebolla', ' pimiento morrón'], 'price': 0.0}, 'Especial': {'name': 'Especial (Mega)', 'ingredient': ['Jamon', ' salchicha', ' chorizo', ' tocino', ' pollo', ' cebolla', ' pimiento morrón'], 'price': 0.0}, 'Hawaiiana': {'name': 'Hawaiiana (Mega)', 'ingredient': ['Jamon', ' piña'], 'price': 0.0}, 'Italiana': {'name': 'Italiana (Mega)', 'ingredient': ['Salchicha italiana', ' cebolla', ' pimiento morrón'], 'price': 0.0}, 'Jamón': {'name': 'Jamón (Mega)', 'ingredient': ['Jamon'], 'price': 0.0}, 'Mexicana': {'name': 'Mexicana (Mega)', 'ingredient': ['Carne molida de res', ' cebolla', ' tomate'], 'price': 0.0}, 'Napolitana': {'name': 'Napolitana (Mega)', 'ingredient': ['Jamon', ' salchicha', ' chorizo', ' champiñones'], 'price': 0.0}, 'Pastor': {'name': 'Pastor (Mega)', 'ingredient': ['Carne al pastor', ' piña', ' cebolla'], 'price': 0.0}, 'Pepperoni': {'name': 'Pepperoni (Mega)', 'ingredient': ['Pepperoni'], 'price': 0.0}, 'Pollo': {'name': 'Pollo (Mega)', 'ingredient': ['Pollo'], 'price': 0.0}, 'Pollo c/Rajas': {'name': 'Pollo c/Rajas (Mega)', 'ingredient': ['Pollo', ' cebolla', ' pimiento morrón'], 'price': 0.0}, 'Premium': {'name': 'Premium (Mega)', 'ingredient': ['Salchicha española premium', ' cebolla', ' pimiento morrón'], 'price': 0.0}, 'Puga': {'name': 'Puga (Mega)', 'ingredient': ['Jamon', ' salchicha', ' chorizo', ' tocino', ' champiñones'], 'price': 0.0}, 'Queso': {'name': 'Queso (Mega)', 'ingredient': ['Solo queso'], 'price': 0.0}, 'Revuelta': {'name': 'Revuelta (Mega)', 'ingredient': ['6 ingredientes a elegir'], 'price': 0.0}, 'Salami': {'name': 'Salami (Mega)', 'ingredient': ['Salami'], 'price': 0.0}, 'Salchicha': {'name': 'Salchicha (Mega)', 'ingredient': ['Salchicha'], 'price': 0.0}, 'Salchicha c/Rajas': {'name': 'Salchicha c/Rajas (Mega)', 'ingredient': ['Salchicha', ' cebolla', ' pimiento morrón'], 'price': 0.0}, 'Tocino': {'name': 'Tocino (Mega)', 'ingredient': ['Tocino'], 'price': 0.0}, 'Tres Quesos': {'name': 'Tres Quesos (Mega)', 'ingredient': ['Queso manchego', ' queso mozzarella', ' queso gouda'], 'price': 0.0}, 'Vegetariana': {'name': 'Vegetariana (Mega)', 'ingredient': ['Campiñones', ' piña', ' cebolla', ' pimiento morrón'], 'price': 0.0}}, 'Mini': {'Árabe': {'name': 'Árabe (Mini)', 'ingredient': ['Carne de tacos árabes', ' cebolla', ' pimiento morrón'], 'price': 95.0}, 'Atún': {'name': 'Atún (Mini)', 'ingredient': ['Atún'], 'price': 75.0}, 'Bambi': {'name': 'Bambi (Mini)', 'ingredient': ['Jamon', ' salchicha', ' chorizo', ' tocino', ' piña', ' cebolla', ' pimiento morrón'], 'price': 75.0}, 'Boneless': {'name': 'Boneless (Mini)', 'ingredient': ['Boneless de pollo'], 'price': 75.0}, 'Carnes Frías': {'name': 'Carnes Frías (Mini)', 'ingredient': ['Jamon', ' salchicha', ' chorizo', ' tocino'], 'price': 75.0}, 'Champiñón': {'name': 'Champiñón (Mini)', 'ingredient': ['Champiñones'], 'price': 70.0}, 'Chinameca': {'name': 'Chinameca (Mini)', 'ingredient': ['Carne de chinameca'], 'price': 75.0}, 'Chinameca c/Rajas': {'name': 'Chinameca c/Rajas (Mini)', 'ingredient': ['Carne de chinameca', ' cebolla', ' pimiento morrón'], 'price': 75.0}, 'Chorizo': {'name': 'Chorizo (Mini)', 'ingredient': ['Chorizo'], 'price': 75.0}, 'Chorizo c/jalapeño': {'name': 'Chorizo c/jalapeño (Mini)', 'ingredient': ['Chorizo', ' chile jalapeño'], 'price': 75.0}, 'Chorizo c/rajas': {'name': 'Chorizo c/rajas (Mini)', 'ingredient': ['Chorizo', ' cebolla', ' pimiento morrón'], 'price': 75.0}, 'Especial': {'name': 'Especial (Mini)', 'ingredient': ['Jamon', ' salchicha', ' chorizo', ' tocino', ' pollo', ' cebolla', ' pimiento morrón'], 'price': 75.0}, 'Hawaiiana': {'name': 'Hawaiiana (Mini)', 'ingredient': ['Jamon', ' piña'], 'price': 75.0}, 'Italiana': {'name': 'Italiana (Mini)', 'ingredient': ['Salchicha italiana', ' cebolla', ' pimiento morrón'], 'price': 95.0}, 'Jamón': {'name': 'Jamón (Mini)', 'ingredient': ['Jamon'], 'price': 75.0}, 'Mexicana': {'name': 'Mexicana (Mini)', 'ingredient': ['Carne molida de res', ' cebolla', ' tomate'], 'price': 75.0}, 'Napolitana': {'name': 'Napolitana (Mini)', 'ingredient': ['Jamon', ' salchicha', ' chorizo', ' champiñones'], 'price': 75.0}, 'Pastor': {'name': 'Pastor (Mini)', 'ingredient': ['Carne al pastor', ' piña', ' cebolla'], 'price': 85.0}, 'Pepperoni': {'name': 'Pepperoni (Mini)', 'ingredient': ['Pepperoni'], 'price': 75.0}, 'Pollo': {'name': 'Pollo (Mini)', 'ingredient': ['Pollo'], 'price': 75.0}, 'Pollo c/Rajas': {'name': 'Pollo c/Rajas (Mini)', 'ingredient': ['Pollo', ' cebolla', ' pimiento morrón'], 'price': 70.0}, 'Premium': {'name': 'Premium (Mini)', 'ingredient': ['Salchicha española premium', ' cebolla', ' pimiento morrón'], 'price': 95.0}, 'Puga': {'name': 'Puga (Mini)', 'ingredient': ['Jamon', ' salchicha', ' chorizo', ' tocino', ' champiñones'], 'price': 75.0}, 'Queso': {'name': 'Queso (Mini)', 'ingredient': ['Solo queso'], 'price': 75.0}, 'Salami': {'name': 'Salami (Mini)', 'ingredient': ['Salami'], 'price': 70.0}, 'Salchicha': {'name': 'Salchicha (Mini)', 'ingredient': ['Salchicha'], 'price': 75.0}, 'Salchicha c/Rajas': {'name': 'Salchicha c/Rajas (Mini)', 'ingredient': ['Salchicha', ' cebolla', ' pimiento morrón'], 'price': 70.0}, 'Tocino': {'name': 'Tocino (Mini)', 'ingredient': ['Tocino'], 'price': 70.0}, 'Tres Quesos': {'name': 'Tres Quesos (Mini)', 'ingredient': ['Queso manchego', ' queso mozzarella', ' queso gouda'], 'price': 85.0}, 'Vegetariana': {'name': 'Vegetariana (Mini)', 'ingredient': ['Campiñones', ' piña', ' cebolla', ' pimiento morrón'], 'price': 75.0}}}\n"
     ]
    }
   ],
   "source": [
    "import json\n",
    "import pandas as pd\n",
    "\n",
    "def csv_to_dictionary_2nd(file_name:str,column_names:list,encoding:str='utf-8')->dict:\n",
    "    \"\"\"Converts a csv file into a python dictionary with a double nested format (to the second <2nd>),\n",
    "    here is an example of its structure:\n",
    "    {\n",
    "        \"Mini\":{\n",
    "            \"Árabe\":{\n",
    "                \"name\":\"Árabe (Mini)\",\n",
    "                \"ingredients\":\"Carne de tacos árabes, cebolla, pimiento morrón\",\n",
    "                \"price\":95\n",
    "            },              \n",
    "            \"Bambi\":{\n",
    "                \"name\":\"Bambi (Mini)\",\n",
    "                \"ingredients\":\"Jamon, salchicha, chorizo, tocino, piña, cebolla, pimiento morrón\",\n",
    "                \"price\":75\n",
    "            }\n",
    "        },\n",
    "        \"Chica\":\n",
    "        {\n",
    "            \"Árabe\":{\n",
    "                \"name\":\"Árabe (Chica)\",\n",
    "                \"ingredients\":\"Carne de tacos árabes, cebolla, pimiento morrón\",\n",
    "                \"price\":130\n",
    "            },              \n",
    "            \"Bambi\":{\n",
    "                \"name\":\"Bambi (Chica)\",\n",
    "                \"ingredients\":\"Jamon, salchicha, chorizo, tocino, piña, cebolla, pimiento morrón\",\n",
    "                \"price\":110\n",
    "            }\n",
    "        }     \n",
    "    }\n",
    "\n",
    "    It works by deafult with encoding utf-8.\n",
    "\n",
    "    Args:\n",
    "        column_names (list): This is a list with the column names of the csv file.\n",
    "\n",
    "    Returns:\n",
    "        dict: A dictionary file with a double nested format.\n",
    "    \"\"\"\n",
    "    csv=pd.read_csv(\n",
    "    # TODO: Improve the name system\n",
    "    \"./\"+file_name+'.csv',\n",
    "    encoding=encoding,\n",
    "    sep=',',\n",
    "    names=column_names)\n",
    "           \n",
    "    sizes={}\n",
    "    sizes_list=list(csv[column_names[0]].unique())\n",
    "    flavors_list=list(csv[column_names[1]].unique())\n",
    "    for size in sizes_list:\n",
    "        sizes[size]=csv[csv[column_names[0]]==size]\n",
    "        flavors={}\n",
    "        for flavor in flavors_list:\n",
    "            s=csv[csv[column_names[0]]==size]\n",
    "            f=s[s[column_names[1]]==flavor]\n",
    "            pizza_info={}\n",
    "            try:\n",
    "                # Product Name\n",
    "                pizza_info[column_names[2]]=(f[column_names[2]].values)[0]\n",
    "                \n",
    "                # Ingredients\n",
    "                \n",
    "                pizza_info[column_names[3]]=str((f[column_names[3]]).values[0]).split(',')\n",
    "                \n",
    "                # Prices\n",
    "                pizza_info[column_names[4]]=float((f[column_names[4]].values)[0])\n",
    "                flavors[flavor]=pizza_info\n",
    "            except Exception as e:\n",
    "                continue\n",
    "#                 print(e)\n",
    "        sizes[size]=flavors\n",
    "    sizes.pop(column_names[0])    \n",
    "    return sizes\n",
    "\n",
    "def dictionary_to_json(file_name:str, column_list:list)->json:\n",
    "    \"\"\"Converts a python dictionary into a nested json file.\n",
    "\n",
    "    It works by default with encoding UTF-8, indent thru 4, and it ensure ascii false\n",
    "\n",
    "    Args:\n",
    "        file_name (str): This is a directory with the file name.\n",
    "        column_list (list): This is a list with the column names of the csv file.\n",
    "\n",
    "    Returns:\n",
    "        json: This is a json file with a two nested format.\n",
    "    \"\"\"\n",
    "    # TODO: Improve the name system\n",
    "    with open('./'+file_name+'.json','w') as outfile:\n",
    "        json.dump(csv_to_dictionary_2nd(file_name,column_list),outfile,indent=4,ensure_ascii=False)\n",
    "\n",
    "\n",
    "filename = \"pizzas\"\n",
    "column_list = ['size','flavor','name','ingredient','price']\n",
    "print(csv_to_dictionary_2nd(filename, column_list))"
   ]
  },
  {
   "cell_type": "markdown",
   "id": "98deded2",
   "metadata": {},
   "source": [
    "## Size"
   ]
  },
  {
   "cell_type": "code",
   "execution_count": null,
   "id": "32c2f179",
   "metadata": {},
   "outputs": [],
   "source": [
    "sizes_list=list(csv['size'].unique())\n",
    "sizes_list"
   ]
  },
  {
   "cell_type": "code",
   "execution_count": null,
   "id": "49e04625",
   "metadata": {},
   "outputs": [],
   "source": [
    "for size in csv.groupby(['size']):\n",
    "    print(size[0])"
   ]
  },
  {
   "cell_type": "code",
   "execution_count": null,
   "id": "a6731ec1",
   "metadata": {},
   "outputs": [],
   "source": [
    "for size in csv.head().groupby(['size']):\n",
    "    print(size[1])"
   ]
  },
  {
   "cell_type": "markdown",
   "id": "8cd7a4a4",
   "metadata": {},
   "source": [
    "## Flavor"
   ]
  },
  {
   "cell_type": "code",
   "execution_count": null,
   "id": "efa69c39",
   "metadata": {
    "scrolled": true
   },
   "outputs": [],
   "source": [
    "list_flavors=list(csv['flavor'].head().unique())\n",
    "list_flavors"
   ]
  },
  {
   "cell_type": "code",
   "execution_count": null,
   "id": "18443f7c",
   "metadata": {},
   "outputs": [],
   "source": [
    "for flavor in csv.head().groupby(['flavor']):\n",
    "    print(flavor[0])"
   ]
  },
  {
   "cell_type": "markdown",
   "id": "1afc9c7d",
   "metadata": {},
   "source": [
    "## Pizza List"
   ]
  },
  {
   "cell_type": "code",
   "execution_count": null,
   "id": "93971d73",
   "metadata": {
    "scrolled": true
   },
   "outputs": [],
   "source": [
    "pizza_info=[]\n",
    "for fields in csv.head().groupby(['name','ingredient','price']):\n",
    "    pizza_info.append(fields[0])\n",
    "pizza_info = dict(flavor=pizza_info)\n",
    "print(pizza_info)"
   ]
  },
  {
   "cell_type": "code",
   "execution_count": null,
   "id": "869c4ff1",
   "metadata": {},
   "outputs": [],
   "source": [
    "pizza_info= []\n",
    "for fields in csv.head().groupby(['size','flavor']):\n",
    "    print(fields[0][0])\n",
    "    "
   ]
  },
  {
   "cell_type": "code",
   "execution_count": null,
   "id": "e02a3d56",
   "metadata": {},
   "outputs": [],
   "source": [
    "pizza_info= []\n",
    "for fields in csv.head().groupby(['size','flavor']):\n",
    "    pizza_info.append(fields[0])\n",
    "print(pizza_info)"
   ]
  },
  {
   "cell_type": "markdown",
   "id": "7faf1d16",
   "metadata": {},
   "source": [
    "## Filtering  By String"
   ]
  },
  {
   "cell_type": "code",
   "execution_count": null,
   "id": "892cf6c7",
   "metadata": {},
   "outputs": [],
   "source": [
    "csv[csv['flavor'].str.contains('Atún')&csv['size'].str.contains('Chica')]"
   ]
  },
  {
   "cell_type": "markdown",
   "id": "1ec0b28f",
   "metadata": {},
   "source": [
    "## Filtering with Multiple Conditons"
   ]
  },
  {
   "cell_type": "code",
   "execution_count": null,
   "id": "0a9661f1",
   "metadata": {},
   "outputs": [],
   "source": [
    "csv['flavor']"
   ]
  },
  {
   "cell_type": "markdown",
   "id": "8f708a56",
   "metadata": {},
   "source": [
    "## Intento Json 1: Usando 'size'"
   ]
  },
  {
   "cell_type": "code",
   "execution_count": null,
   "id": "4035373b",
   "metadata": {},
   "outputs": [],
   "source": [
    "pizza_info={}\n",
    "for size in csv.groupby(['size']):\n",
    "    pizza_info[size[0]]=size[1]\n",
    "print(pizza_info)"
   ]
  },
  {
   "cell_type": "markdown",
   "id": "0b188529",
   "metadata": {},
   "source": [
    "## Intento Json 2: Usando 'flavor'"
   ]
  },
  {
   "cell_type": "code",
   "execution_count": null,
   "id": "549b6a55",
   "metadata": {},
   "outputs": [],
   "source": [
    "pizza_info={}\n",
    "for flavor in csv.groupby(['flavor']):\n",
    "    pizza_info[flavor[0]]=flavor[1]\n",
    "print(pizza_info)"
   ]
  },
  {
   "cell_type": "markdown",
   "id": "ff944987",
   "metadata": {},
   "source": [
    "## Intento Json 3: Usando 'size' & 'flavor'"
   ]
  },
  {
   "cell_type": "code",
   "execution_count": null,
   "id": "df5f31df",
   "metadata": {
    "scrolled": true
   },
   "outputs": [],
   "source": [
    "pizza_info={}\n",
    "filtered_by_flavor = csv[csv['flavor'].str.contains('Atún')]\n",
    "# filtered_by_flavor[filtered_by_flavor=='Chica 2']\n",
    "# filtered_by_flavor[filtered_by_flavor[size].str.contains('Chica',regex=True)]\n",
    "filtered_by_flavor"
   ]
  },
  {
   "cell_type": "code",
   "execution_count": null,
   "id": "ddafaccd",
   "metadata": {},
   "outputs": [],
   "source": [
    "flavor={}\n",
    "for indent_keys, all_data in csv.groupby(['size','flavor']):\n",
    "#     print(indent_keys[0]) #--> size\n",
    "#     print(indent_keys[1]) #--> flavor\n",
    "#     print(len(pizza_info))\n",
    "    flavor[indent_keys[1]]=pizza_info\n",
    "\n",
    "print(flavor)"
   ]
  },
  {
   "cell_type": "code",
   "execution_count": null,
   "id": "91d91065",
   "metadata": {},
   "outputs": [],
   "source": [
    "size={}\n",
    "for indent_keys, all_data in csv.groupby(['size','flavor']):\n",
    "#     print(indent_keys[0]) #--> size\n",
    "#     print(indent_keys[1]) #--> flavor\n",
    "    size[indent_keys[0]]=flavor\n",
    "print(size)"
   ]
  },
  {
   "cell_type": "code",
   "execution_count": null,
   "id": "816542b7",
   "metadata": {
    "scrolled": true
   },
   "outputs": [],
   "source": [
    "chica=csv[csv['size']=='Chica']\n",
    "chica"
   ]
  },
  {
   "cell_type": "code",
   "execution_count": null,
   "id": "2f63a06a",
   "metadata": {
    "scrolled": true
   },
   "outputs": [],
   "source": [
    "chica[chica['flavor'].str.contains('Boneless')]"
   ]
  }
 ],
 "metadata": {
  "celltoolbar": "Raw Cell Format",
  "kernelspec": {
   "display_name": "Python 3 (ipykernel)",
   "language": "python",
   "name": "python3"
  },
  "language_info": {
   "codemirror_mode": {
    "name": "ipython",
    "version": 3
   },
   "file_extension": ".py",
   "mimetype": "text/x-python",
   "name": "python",
   "nbconvert_exporter": "python",
   "pygments_lexer": "ipython3",
   "version": "3.9.12"
  }
 },
 "nbformat": 4,
 "nbformat_minor": 5
}
